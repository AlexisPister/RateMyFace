{
 "cells": [
  {
   "cell_type": "code",
   "execution_count": 1,
   "metadata": {},
   "outputs": [
    {
     "name": "stderr",
     "output_type": "stream",
     "text": [
      "Using TensorFlow backend.\n"
     ]
    }
   ],
   "source": [
    "from keras.applications import ResNet50\n",
    "from keras.models import Sequential\n",
    "from keras.layers import Dense, Activation\n",
    "from keras.optimizers import Adam\n",
    "import pandas as pd\n",
    "import numpy as np\n",
    "import cv2"
   ]
  },
  {
   "cell_type": "code",
   "execution_count": 2,
   "metadata": {},
   "outputs": [
    {
     "name": "stdout",
     "output_type": "stream",
     "text": [
      "(5500, 350, 350, 3)\n",
      "CPU times: user 19.7 s, sys: 4.6 s, total: 24.3 s\n",
      "Wall time: 31.4 s\n"
     ]
    }
   ],
   "source": [
    "%%time\n",
    "raw_data_path = \"./SCUT-FBP5500_v2/train_test_files/All_labels.txt\"\n",
    "raw_data = np.loadtxt(raw_data_path, delimiter=\" \", unpack=True, dtype=str)\n",
    "X_names = raw_data[0]\n",
    "Y = raw_data[1]\n",
    "Y = Y.astype(float)\n",
    "\n",
    "X = []\n",
    "#X = np.empty((5500, 350, 350, 3))\n",
    "#print(X)\n",
    "i = 0\n",
    "for i,img_name in enumerate(X_names):\n",
    "    img = cv2.imread(\"./SCUT-FBP5500_v2/Images/\" + img_name)\n",
    "    #X[i] = img\n",
    "    X.append(img)\n",
    "    i += 1\n",
    "    if i == 100000:\n",
    "        break\n",
    "\n",
    "X = np.array(X)\n",
    "print(X.shape)"
   ]
  },
  {
   "cell_type": "code",
   "execution_count": 3,
   "metadata": {},
   "outputs": [
    {
     "name": "stdout",
     "output_type": "stream",
     "text": [
      "CPU times: user 1.51 s, sys: 2.88 s, total: 4.38 s\n",
      "Wall time: 10.3 s\n"
     ]
    }
   ],
   "source": [
    "%%time\n",
    "# Splitting data\n",
    "from sklearn.model_selection import train_test_split\n",
    "X_train, X_test, y_train, y_test = train_test_split(X, Y, test_size=0.20, random_state=42)"
   ]
  },
  {
   "cell_type": "code",
   "execution_count": 4,
   "metadata": {},
   "outputs": [
    {
     "name": "stdout",
     "output_type": "stream",
     "text": [
      "WARNING:tensorflow:From /home/alexis/.local/lib/python3.5/site-packages/tensorflow/python/framework/op_def_library.py:263: colocate_with (from tensorflow.python.framework.ops) is deprecated and will be removed in a future version.\n",
      "Instructions for updating:\n",
      "Colocations handled automatically by placer.\n",
      "_________________________________________________________________\n",
      "Layer (type)                 Output Shape              Param #   \n",
      "=================================================================\n",
      "resnet50 (Model)             (None, 2048)              23587712  \n",
      "_________________________________________________________________\n",
      "dense_1 (Dense)              (None, 1)                 2049      \n",
      "=================================================================\n",
      "Total params: 23,589,761\n",
      "Trainable params: 2,049\n",
      "Non-trainable params: 23,587,712\n",
      "_________________________________________________________________\n",
      "None\n"
     ]
    }
   ],
   "source": [
    "# Model initiation : resnet50 + denser layer with one cell (output) for regression\n",
    "resnet = ResNet50(include_top=False, pooling=\"avg\")\n",
    "model = Sequential()\n",
    "model.add(resnet)\n",
    "model.add(Dense(1))\n",
    "\n",
    "# We train only the last connections for now\n",
    "model.layers[0].trainable = False\n",
    "\n",
    "print(model.summary())"
   ]
  },
  {
   "cell_type": "code",
   "execution_count": 5,
   "metadata": {},
   "outputs": [
    {
     "name": "stdout",
     "output_type": "stream",
     "text": [
      "WARNING:tensorflow:From /home/alexis/.local/lib/python3.5/site-packages/tensorflow/python/ops/math_ops.py:3066: to_int32 (from tensorflow.python.ops.math_ops) is deprecated and will be removed in a future version.\n",
      "Instructions for updating:\n",
      "Use tf.cast instead.\n",
      "Epoch 1/1\n",
      "4400/4400 [==============================] - 6309s 1s/step - loss: 0.8992\n",
      "CPU times: user 5h 20min 16s, sys: 18min 11s, total: 5h 38min 28s\n",
      "Wall time: 1h 45min 9s\n"
     ]
    }
   ],
   "source": [
    "%%time\n",
    "# On précise la formule de l'erreur et la technique d'optimisation\n",
    "model.compile(loss='mean_squared_error', optimizer=Adam())\n",
    "# Entrainement\n",
    "model.fit(batch_size=32, x=X_train, y=y_train, epochs=1)"
   ]
  },
  {
   "cell_type": "code",
   "execution_count": null,
   "metadata": {},
   "outputs": [],
   "source": [
    "import h5py\n",
    "model.save('./model')"
   ]
  },
  {
   "cell_type": "code",
   "execution_count": null,
   "metadata": {},
   "outputs": [],
   "source": [
    "scores = model.evaluate(X, Y, verbose=0)"
   ]
  }
 ],
 "metadata": {
  "kernelspec": {
   "display_name": "Python 3",
   "language": "python",
   "name": "python3"
  },
  "language_info": {
   "codemirror_mode": {
    "name": "ipython",
    "version": 3
   },
   "file_extension": ".py",
   "mimetype": "text/x-python",
   "name": "python",
   "nbconvert_exporter": "python",
   "pygments_lexer": "ipython3",
   "version": "3.5.2"
  }
 },
 "nbformat": 4,
 "nbformat_minor": 2
}
