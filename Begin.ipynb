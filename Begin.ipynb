{
 "cells": [
  {
   "cell_type": "code",
   "execution_count": 1,
   "metadata": {},
   "outputs": [
    {
     "name": "stderr",
     "output_type": "stream",
     "text": [
      "Using TensorFlow backend.\n"
     ]
    }
   ],
   "source": [
    "from keras.applications import ResNet50\n",
    "from keras.models import Sequential\n",
    "from keras.layers import Dense, Activation\n",
    "from keras.optimizers import Adam\n",
    "import matplotlib.pyplot as plt\n",
    "import pandas as pd\n",
    "import numpy as np\n",
    "import cv2\n",
    "import os\n",
    "import h5py"
   ]
  },
  {
   "cell_type": "code",
   "execution_count": 2,
   "metadata": {},
   "outputs": [],
   "source": [
    "# Paths\n",
    "raw_data_path = \"./SCUT-FBP5500_v2/train_test_files/All_labels.txt\"\n",
    "model_weights_path = \"./model_weights.h5\""
   ]
  },
  {
   "cell_type": "code",
   "execution_count": 3,
   "metadata": {},
   "outputs": [
    {
     "name": "stdout",
     "output_type": "stream",
     "text": [
      "(5500, 350, 350, 3)\n",
      "CPU times: user 11.3 s, sys: 1.46 s, total: 12.7 s\n",
      "Wall time: 12.7 s\n"
     ]
    }
   ],
   "source": [
    "%%time\n",
    "# Load Data\n",
    "raw_data = np.loadtxt(raw_data_path, delimiter=\" \", unpack=True, dtype=str)\n",
    "X_names = raw_data[0]\n",
    "Y = raw_data[1]\n",
    "Y = Y.astype(float)\n",
    "\n",
    "X = []\n",
    "i = 0\n",
    "for i,img_name in enumerate(X_names):\n",
    "    img = cv2.imread(\"./SCUT-FBP5500_v2/Images/\" + img_name)\n",
    "    X.append(img)\n",
    "    i += 1\n",
    "    if i == 100000:\n",
    "        break\n",
    "\n",
    "X = np.array(X)\n",
    "print(X.shape)"
   ]
  },
  {
   "cell_type": "code",
   "execution_count": 4,
   "metadata": {},
   "outputs": [
    {
     "name": "stdout",
     "output_type": "stream",
     "text": [
      "5302\n",
      "score : 4.316667\n"
     ]
    }
   ],
   "source": [
    "# Plot one image\n",
    "ind = np.random.randint(len(X))\n",
    "print(ind)\n",
    "imgRGB = cv2.cvtColor(X[ind], cv2.COLOR_BGR2RGB)\n",
    "print('score :', Y[ind])\n",
    "#plt.imshow(imgRGB)"
   ]
  },
  {
   "cell_type": "code",
   "execution_count": 4,
   "metadata": {},
   "outputs": [
    {
     "name": "stdout",
     "output_type": "stream",
     "text": [
      "CPU times: user 617 ms, sys: 316 ms, total: 934 ms\n",
      "Wall time: 933 ms\n"
     ]
    }
   ],
   "source": [
    "%%time\n",
    "# Splitting data\n",
    "from sklearn.model_selection import train_test_split\n",
    "X_train, X_test, y_train, y_test = train_test_split(X, Y, test_size=0.20, random_state=42)"
   ]
  },
  {
   "cell_type": "code",
   "execution_count": 5,
   "metadata": {},
   "outputs": [
    {
     "name": "stdout",
     "output_type": "stream",
     "text": [
      "initializing model\n",
      "WARNING:tensorflow:From /home/mondeca/applications/anaconda3/lib/python3.7/site-packages/tensorflow/python/framework/op_def_library.py:263: colocate_with (from tensorflow.python.framework.ops) is deprecated and will be removed in a future version.\n",
      "Instructions for updating:\n",
      "Colocations handled automatically by placer.\n",
      "CPU times: user 13.1 s, sys: 236 ms, total: 13.4 s\n",
      "Wall time: 12.4 s\n"
     ]
    }
   ],
   "source": [
    "%%time\n",
    "from keras.models import load_model\n",
    "\n",
    "# Model initialisaition : resnet50 + denser layer with one cell (output) for regression\n",
    "print('initializing model')\n",
    "resnet = ResNet50(include_top=False, pooling=\"avg\")\n",
    "model = Sequential()\n",
    "model.add(resnet)\n",
    "model.add(Dense(1))\n",
    "\n",
    "# We only train the last connections for now\n",
    "model.layers[0].trainable = False"
   ]
  },
  {
   "cell_type": "code",
   "execution_count": 6,
   "metadata": {},
   "outputs": [],
   "source": [
    "# On précise la formule de l'erreur et la technique d'optimisation\n",
    "model.compile(loss='mean_squared_error', optimizer=Adam())"
   ]
  },
  {
   "cell_type": "code",
   "execution_count": 7,
   "metadata": {},
   "outputs": [
    {
     "name": "stdout",
     "output_type": "stream",
     "text": [
      "loading weights\n",
      "_________________________________________________________________\n",
      "Layer (type)                 Output Shape              Param #   \n",
      "=================================================================\n",
      "resnet50 (Model)             (None, 2048)              23587712  \n",
      "_________________________________________________________________\n",
      "dense_1 (Dense)              (None, 1)                 2049      \n",
      "=================================================================\n",
      "Total params: 23,589,761\n",
      "Trainable params: 2,049\n",
      "Non-trainable params: 23,587,712\n",
      "_________________________________________________________________\n",
      "None\n"
     ]
    }
   ],
   "source": [
    "# Load existing weights (it can be put before or after the compiling method)\n",
    "if os.path.isfile(model_weights_path):\n",
    "    print('loading weights')\n",
    "    model.load_weights(model_weights_path)\n",
    "print(model.summary())"
   ]
  },
  {
   "cell_type": "code",
   "execution_count": 11,
   "metadata": {},
   "outputs": [
    {
     "name": "stdout",
     "output_type": "stream",
     "text": [
      "Epoch 1/1\n",
      "4400/4400 [==============================] - 1416s 322ms/step - loss: 0.1468\n",
      "CPU times: user 2h 23min 43s, sys: 8min 23s, total: 2h 32min 6s\n",
      "Wall time: 23min 36s\n"
     ]
    }
   ],
   "source": [
    "%%time\n",
    "# Training of the last layer\n",
    "model.fit(batch_size=32, x=X_train, y=y_train, epochs=1)\n",
    "model.save_weights(model_weights_path)"
   ]
  },
  {
   "cell_type": "code",
   "execution_count": 16,
   "metadata": {},
   "outputs": [
    {
     "name": "stdout",
     "output_type": "stream",
     "text": [
      "Epoch 1/1\n",
      "4400/4400 [==============================] - 5778s 1s/step - loss: 0.2070\n"
     ]
    }
   ],
   "source": [
    "# Fit for all weights\n",
    "model.fit(batch_size=10, x=X_train, y=y_train, epochs=1)\n",
    "model.save_weights(model_weights_path)"
   ]
  },
  {
   "cell_type": "code",
   "execution_count": 12,
   "metadata": {},
   "outputs": [
    {
     "name": "stdout",
     "output_type": "stream",
     "text": [
      "1100/1100 [==============================] - 412s 374ms/step\n",
      "3.230814594788985\n"
     ]
    }
   ],
   "source": [
    "scores = model.evaluate(X_test, y_test, verbose=1)\n",
    "print(scores)"
   ]
  },
  {
   "cell_type": "code",
   "execution_count": 14,
   "metadata": {},
   "outputs": [],
   "source": [
    "predictions = model.predict(X_test)"
   ]
  },
  {
   "cell_type": "code",
   "execution_count": 16,
   "metadata": {},
   "outputs": [
    {
     "name": "stdout",
     "output_type": "stream",
     "text": [
      "4.771003\n"
     ]
    }
   ],
   "source": [
    "print(np.mean(predictions))"
   ]
  }
 ],
 "metadata": {
  "kernelspec": {
   "display_name": "Python 3",
   "language": "python",
   "name": "python3"
  },
  "language_info": {
   "codemirror_mode": {
    "name": "ipython",
    "version": 3
   },
   "file_extension": ".py",
   "mimetype": "text/x-python",
   "name": "python",
   "nbconvert_exporter": "python",
   "pygments_lexer": "ipython3",
   "version": "3.7.1"
  }
 },
 "nbformat": 4,
 "nbformat_minor": 2
}
